{
 "cells": [
  {
   "cell_type": "code",
   "execution_count": 3,
   "id": "65c3a49a-b916-4075-a277-caf7075c2672",
   "metadata": {},
   "outputs": [],
   "source": [
    "import requests\n",
    "from bs4 import BeautifulSoup\n",
    "from transformers import pipeline, BartForConditionalGeneration, BartTokenizer\n",
    "import torch"
   ]
  },
  {
   "cell_type": "code",
   "execution_count": 22,
   "id": "83fa4569-90d5-40a1-b0f6-086303ba2c3a",
   "metadata": {},
   "outputs": [
    {
     "name": "stdout",
     "output_type": "stream",
     "text": [
      "Purport found for SB 2.2.2:\n",
      "Default View Show in Advanced View Dual Language View ŚB 2.2.2 Devanagari शाब्दस्य हि ब्रह्मण एष पन्था यन्नामभिर्ध्यायति धीरपार्थै: । परिभ्रमंस्तत्र न विन्दतेऽर्थान् मायामये वासनया शयान: ॥ २ ॥ Verse t...\n"
     ]
    }
   ],
   "source": [
    "def scrape_purport(verse_ref):\n",
    "    url = f\"https://vedabase.io/en/library/sb/{verse_ref.replace('.', '/')}/\"\n",
    "    \n",
    "    headers = {\n",
    "        'User-Agent': 'Mozilla/5.0 (Windows NT 10.0; Win64; x64) AppleWebKit/537.36 (KHTML, like Gecko) Chrome/120.0.0.0 Safari/537.36',\n",
    "        'Accept-Language': 'en-US,en;q=0.9'\n",
    "    }\n",
    "\n",
    "    try:\n",
    "        # 1. First try with standard request\n",
    "        response = requests.get(url, headers=headers, timeout=10)\n",
    "        response.raise_for_status()\n",
    "        \n",
    "        soup = BeautifulSoup(response.text, 'html.parser')\n",
    "        \n",
    "        # 2. Try multiple selectors (Vedabase sometimes changes structure)\n",
    "        selectors = [\n",
    "            'div.r-purport',        \n",
    "            'div.purport-wrapper',  \n",
    "            'div.verse-text',       \n",
    "            'div#purport',          \n",
    "            'article'               \n",
    "        ]\n",
    "        \n",
    "        for selector in selectors:\n",
    "            purport = soup.select_one(selector)\n",
    "            if purport:\n",
    "                return purport.get_text(' ', strip=True)\n",
    "        \n",
    "        # 3. If all selectors fail, try raw text extraction\n",
    "        main_content = soup.find('main') or soup.find('div', class_='content')\n",
    "        if main_content:\n",
    "            return main_content.get_text(' ', strip=True)[:20000]  \n",
    "        \n",
    "        return None\n",
    "        \n",
    "    except requests.HTTPError as e:\n",
    "        print(f\"HTTP Error for SB {verse_ref}: {e}\")\n",
    "        return None\n",
    "    except Exception as e:\n",
    "        print(f\"General error for SB {verse_ref}: {e}\")\n",
    "        return None\n",
    "\n",
    "verse_ref = \"2.2.2\"\n",
    "purport = scrape_purport(verse_ref)\n",
    "\n",
    "if purport:\n",
    "    print(f\"Purport found for SB {verse_ref}:\")\n",
    "    print(purport[:200] + \"...\")  \n",
    "else:\n",
    "    print(f\"No purport found for SB {verse_ref}. Possible reasons:\")"
   ]
  },
  {
   "cell_type": "code",
   "execution_count": 23,
   "id": "b9dc5f8a-b4d4-4370-b79a-b2dabd84e114",
   "metadata": {},
   "outputs": [
    {
     "name": "stdout",
     "output_type": "stream",
     "text": [
      "Summary: The real happiness is in the kingdom of God, where no one has to undergo the pangs of material existence. Conditioned souls are strictly under the laws of fruitive activities, and as such they sometimes go up to Brahmaloka and again come down to Pātālaloka, as if they were unintelligent children on a merry-go-round.\n"
     ]
    }
   ],
   "source": [
    "def summarize_bart(text, max_length=150):\n",
    "    try:\n",
    "        if not text or \"Could not find\" in text or \"Error retrieving\" in text:\n",
    "            return text  \n",
    "            \n",
    "        model_name = \"facebook/bart-large-cnn\"\n",
    "        tokenizer = BartTokenizer.from_pretrained(model_name)\n",
    "        model = BartForConditionalGeneration.from_pretrained(model_name)\n",
    "        \n",
    "        inputs = tokenizer([text], max_length=1024, return_tensors=\"pt\", truncation=True)\n",
    "        \n",
    "        summary_ids = model.generate(\n",
    "            inputs[\"input_ids\"],\n",
    "            max_length=max_length,\n",
    "            num_beams=4,\n",
    "            early_stopping=True\n",
    "        )\n",
    "        \n",
    "        return tokenizer.decode(summary_ids[0], skip_special_tokens=True)\n",
    "        \n",
    "    except Exception as e:\n",
    "        return f\"Summarization failed: {str(e)}\"\n",
    "\n",
    "# Usage\n",
    "purport = scrape_purport(\"2.2.2\")\n",
    "if not purport.startswith(\"Error\"):\n",
    "    summary = summarize_bart(purport)\n",
    "    print(\"Summary:\", summary)\n",
    "else:\n",
    "    print(purport)  "
   ]
  },
  {
   "cell_type": "code",
   "execution_count": null,
   "id": "4b21cb82-563d-4ad6-b093-7f81757bba9c",
   "metadata": {},
   "outputs": [],
   "source": []
  }
 ],
 "metadata": {
  "kernelspec": {
   "display_name": "Python 3 (ipykernel)",
   "language": "python",
   "name": "python3"
  },
  "language_info": {
   "codemirror_mode": {
    "name": "ipython",
    "version": 3
   },
   "file_extension": ".py",
   "mimetype": "text/x-python",
   "name": "python",
   "nbconvert_exporter": "python",
   "pygments_lexer": "ipython3",
   "version": "3.11.8"
  }
 },
 "nbformat": 4,
 "nbformat_minor": 5
}
